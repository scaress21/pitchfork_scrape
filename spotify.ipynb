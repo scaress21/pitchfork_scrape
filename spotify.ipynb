{
 "cells": [
  {
   "cell_type": "markdown",
   "metadata": {},
   "source": [
    "## Spotify API\n",
    "Building on the Pitchfork scrape, this notebook loops through the new music entries and adds a Spotify link if one is available,"
   ]
  },
  {
   "cell_type": "code",
   "execution_count": 1,
   "metadata": {},
   "outputs": [],
   "source": [
    "import pandas as pd\n",
    "import requests\n",
    "import time"
   ]
  },
  {
   "cell_type": "code",
   "execution_count": 2,
   "metadata": {},
   "outputs": [],
   "source": [
    "#Loading in the csv from the last notebook\n",
    "pitch = pd.read_csv('./new_music.csv')"
   ]
  },
  {
   "cell_type": "code",
   "execution_count": 3,
   "metadata": {},
   "outputs": [
    {
     "data": {
      "text/html": [
       "<div>\n",
       "<style scoped>\n",
       "    .dataframe tbody tr th:only-of-type {\n",
       "        vertical-align: middle;\n",
       "    }\n",
       "\n",
       "    .dataframe tbody tr th {\n",
       "        vertical-align: top;\n",
       "    }\n",
       "\n",
       "    .dataframe thead th {\n",
       "        text-align: right;\n",
       "    }\n",
       "</style>\n",
       "<table border=\"1\" class=\"dataframe\">\n",
       "  <thead>\n",
       "    <tr style=\"text-align: right;\">\n",
       "      <th></th>\n",
       "      <th>artist</th>\n",
       "      <th>title</th>\n",
       "      <th>review_link</th>\n",
       "      <th>album_track</th>\n",
       "      <th>genre</th>\n",
       "      <th>artwork</th>\n",
       "      <th>preview</th>\n",
       "      <th>score</th>\n",
       "      <th>author</th>\n",
       "    </tr>\n",
       "  </thead>\n",
       "  <tbody>\n",
       "    <tr>\n",
       "      <th>0</th>\n",
       "      <td>The Microphones</td>\n",
       "      <td>Microphones in 2020</td>\n",
       "      <td>https://pitchfork.com//reviews/albums/the-micr...</td>\n",
       "      <td>Album</td>\n",
       "      <td>['Experimental', 'Rock']</td>\n",
       "      <td>https://media.pitchfork.com/photos/5f284eb719f...</td>\n",
       "      <td>Phil Elverum resurrects his beloved Microphone...</td>\n",
       "      <td>8.5</td>\n",
       "      <td>Quinn Moreland</td>\n",
       "    </tr>\n",
       "    <tr>\n",
       "      <th>1</th>\n",
       "      <td>Nazar</td>\n",
       "      <td>“Bunker” [ft. Shannen SP]</td>\n",
       "      <td>https://pitchfork.com//reviews/tracks/nazar-bu...</td>\n",
       "      <td>Track</td>\n",
       "      <td>[]</td>\n",
       "      <td>https://media.pitchfork.com/photos/5f08b15526e...</td>\n",
       "      <td>For the Manchester-based Angolan electronic ar...</td>\n",
       "      <td>NaN</td>\n",
       "      <td>Eric Torres</td>\n",
       "    </tr>\n",
       "    <tr>\n",
       "      <th>2</th>\n",
       "      <td>that dog.</td>\n",
       "      <td>Totally Crushed Out! / Retreat From the Sun</td>\n",
       "      <td>https://pitchfork.com//reviews/albums/that-dog...</td>\n",
       "      <td>Album</td>\n",
       "      <td>['Rock']</td>\n",
       "      <td>https://media.pitchfork.com/photos/5f1efd858fd...</td>\n",
       "      <td>Reissues of the L.A. band’s mid-’90s albums ca...</td>\n",
       "      <td>8.3</td>\n",
       "      <td>Jenn Pelly</td>\n",
       "    </tr>\n",
       "    <tr>\n",
       "      <th>3</th>\n",
       "      <td>Dehd</td>\n",
       "      <td>Flower of Devotion</td>\n",
       "      <td>/reviews/albums/dehd-flower-of-devotion/</td>\n",
       "      <td>Album</td>\n",
       "      <td>['Rock']</td>\n",
       "      <td>https://media.pitchfork.com/photos/5f0e1f47763...</td>\n",
       "      <td>Recording in a studio, the Chicago DIY trio so...</td>\n",
       "      <td>8.3</td>\n",
       "      <td>Steven Arroyo</td>\n",
       "    </tr>\n",
       "    <tr>\n",
       "      <th>4</th>\n",
       "      <td>Julianna Barwick</td>\n",
       "      <td>Healing Is a Miracle</td>\n",
       "      <td>/reviews/albums/julianna-barwick-healing-is-a-...</td>\n",
       "      <td>Album</td>\n",
       "      <td>['Electronic']</td>\n",
       "      <td>https://media.pitchfork.com/photos/5f073c85ca5...</td>\n",
       "      <td>The vocalist and producer Juliana Barwick’s re...</td>\n",
       "      <td>8.3</td>\n",
       "      <td>Will Gottsegen</td>\n",
       "    </tr>\n",
       "  </tbody>\n",
       "</table>\n",
       "</div>"
      ],
      "text/plain": [
       "             artist                                        title  \\\n",
       "0   The Microphones                          Microphones in 2020   \n",
       "1             Nazar                    “Bunker” [ft. Shannen SP]   \n",
       "2         that dog.  Totally Crushed Out! / Retreat From the Sun   \n",
       "3              Dehd                           Flower of Devotion   \n",
       "4  Julianna Barwick                         Healing Is a Miracle   \n",
       "\n",
       "                                         review_link album_track  \\\n",
       "0  https://pitchfork.com//reviews/albums/the-micr...       Album   \n",
       "1  https://pitchfork.com//reviews/tracks/nazar-bu...       Track   \n",
       "2  https://pitchfork.com//reviews/albums/that-dog...       Album   \n",
       "3           /reviews/albums/dehd-flower-of-devotion/       Album   \n",
       "4  /reviews/albums/julianna-barwick-healing-is-a-...       Album   \n",
       "\n",
       "                      genre  \\\n",
       "0  ['Experimental', 'Rock']   \n",
       "1                        []   \n",
       "2                  ['Rock']   \n",
       "3                  ['Rock']   \n",
       "4            ['Electronic']   \n",
       "\n",
       "                                             artwork  \\\n",
       "0  https://media.pitchfork.com/photos/5f284eb719f...   \n",
       "1  https://media.pitchfork.com/photos/5f08b15526e...   \n",
       "2  https://media.pitchfork.com/photos/5f1efd858fd...   \n",
       "3  https://media.pitchfork.com/photos/5f0e1f47763...   \n",
       "4  https://media.pitchfork.com/photos/5f073c85ca5...   \n",
       "\n",
       "                                             preview  score          author  \n",
       "0  Phil Elverum resurrects his beloved Microphone...    8.5  Quinn Moreland  \n",
       "1  For the Manchester-based Angolan electronic ar...    NaN     Eric Torres  \n",
       "2  Reissues of the L.A. band’s mid-’90s albums ca...    8.3      Jenn Pelly  \n",
       "3  Recording in a studio, the Chicago DIY trio so...    8.3   Steven Arroyo  \n",
       "4  The vocalist and producer Juliana Barwick’s re...    8.3  Will Gottsegen  "
      ]
     },
     "execution_count": 3,
     "metadata": {},
     "output_type": "execute_result"
    }
   ],
   "source": [
    "pitch.head()"
   ]
  },
  {
   "cell_type": "code",
   "execution_count": 4,
   "metadata": {},
   "outputs": [],
   "source": [
    "#Combining these fields makes it easier to search\n",
    "pitch['title_artist'] = pitch['artist'] + ' ' + pitch['title']"
   ]
  },
  {
   "cell_type": "code",
   "execution_count": 5,
   "metadata": {},
   "outputs": [],
   "source": [
    "#Bringing in Spotify credentials\n",
    "from credentials import s_key, ss_key"
   ]
  },
  {
   "cell_type": "code",
   "execution_count": 6,
   "metadata": {},
   "outputs": [],
   "source": [
    "#This function gets an auth token\n",
    "def auth(key, sec):\n",
    "    \n",
    "    authorize = 'https://accounts.spotify.com/api/token'\n",
    "    param = {\n",
    "    \"Content-Type\": \"application/x-www-form-urlencoded\",\n",
    "    'grant_type' : 'client_credentials'\n",
    "    }\n",
    "    res = requests.post(authorize, auth = (s_key, ss_key), data = param)\n",
    "    token = res.json()['access_token']\n",
    "    \n",
    "    return token"
   ]
  },
  {
   "cell_type": "code",
   "execution_count": 7,
   "metadata": {},
   "outputs": [],
   "source": [
    "#This function loops through the dataframe, search Spotify, and adds the link to listen if one is available\n",
    "\n",
    "def get_uri(df):\n",
    "    #Set up empty counter and total songs to get\n",
    "    count = 0 \n",
    "    total = len(df)\n",
    "    token = auth(s_key, ss_key)\n",
    "    \n",
    "    for i in range(len(df)):\n",
    "        count += 1\n",
    "        song = df.loc[i, 'title_artist']\n",
    "       \n",
    "        try:\n",
    "            \n",
    "            #Search parameters with the song plugged in\n",
    "            params = {\n",
    "            'q' : song,\n",
    "            'type': 'album',\n",
    "            'limit' : 5\n",
    "            }\n",
    "\n",
    "            #Header for authorization\n",
    "            header = {'Authorization' : f'Bearer {token}'}\n",
    "\n",
    "            #Search endpoint\n",
    "            spotify_search = 'https://api.spotify.com/v1/search'\n",
    "\n",
    "            #Make the request\n",
    "            res = requests.get(spotify_search, headers = header, params = params)\n",
    "            status = res.status_code\n",
    "            \n",
    "            #Continue if status code is 200:\n",
    "            if res.status_code == 200:\n",
    "            \n",
    "                #Save the results and grab the uri\n",
    "                results = res.json()\n",
    "\n",
    "                uri = results['albums']['items'][0]['external_urls']['spotify']\n",
    "            \n",
    "            else:\n",
    "                print(df.loc[i, 'title_artist'])\n",
    "        \n",
    "        except:\n",
    "            #If it doesn't work, print out the song and fill in with nan\n",
    "            print(f'Could not retrieve {song}, status code {status}')\n",
    "            uri = 'nan'\n",
    "            \n",
    "        #Add the info the the DataFrame:\n",
    "       \n",
    "        df.loc[i, 'spotify'] = uri\n",
    "        \n",
    "        #Print updates for every 100\n",
    "        if count % 100 == 0:\n",
    "            print(f'{count} gathered out of {total}')\n",
    "        \n",
    "        #Take a break to not exceed the rate limit\n",
    "        time.sleep(1)\n",
    "\n",
    "    return df"
   ]
  },
  {
   "cell_type": "code",
   "execution_count": null,
   "metadata": {},
   "outputs": [
    {
     "name": "stdout",
     "output_type": "stream",
     "text": [
      "Could not retrieve The Microphones Microphones in 2020, status code 200\n",
      "Could not retrieve Nazar “Bunker” [ft. Shannen SP], status code 200\n",
      "Could not retrieve that dog. Totally Crushed Out! / Retreat From the Sun, status code 200\n"
     ]
    }
   ],
   "source": [
    "pitch = get_uri(pitch)"
   ]
  },
  {
   "cell_type": "code",
   "execution_count": null,
   "metadata": {},
   "outputs": [],
   "source": [
    "#Returnedf dataframe\n",
    "pitch"
   ]
  }
 ],
 "metadata": {
  "kernelspec": {
   "display_name": "Python 3",
   "language": "python",
   "name": "python3"
  },
  "language_info": {
   "codemirror_mode": {
    "name": "ipython",
    "version": 3
   },
   "file_extension": ".py",
   "mimetype": "text/x-python",
   "name": "python",
   "nbconvert_exporter": "python",
   "pygments_lexer": "ipython3",
   "version": "3.7.6"
  }
 },
 "nbformat": 4,
 "nbformat_minor": 4
}
