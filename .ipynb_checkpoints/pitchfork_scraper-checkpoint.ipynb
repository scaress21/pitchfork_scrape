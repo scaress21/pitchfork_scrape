{
 "cells": [
  {
   "cell_type": "markdown",
   "metadata": {},
   "source": [
    "## Pitchfork Web Scraper\n",
    "This notebook goes through the process of scraping a website, Pitchfork, for their new music recommendations."
   ]
  },
  {
   "cell_type": "code",
   "execution_count": 1,
   "metadata": {},
   "outputs": [],
   "source": [
    "#Imports\n",
    "import pandas as pd\n",
    "import requests\n",
    "from bs4 import BeautifulSoup"
   ]
  },
  {
   "cell_type": "code",
   "execution_count": 2,
   "metadata": {},
   "outputs": [],
   "source": [
    "#Create a Request object by gathering information from the URL below\n",
    "res = requests.get('https://pitchfork.com/best/')"
   ]
  },
  {
   "cell_type": "code",
   "execution_count": 3,
   "metadata": {},
   "outputs": [
    {
     "data": {
      "text/plain": [
       "200"
      ]
     },
     "execution_count": 3,
     "metadata": {},
     "output_type": "execute_result"
    }
   ],
   "source": [
    "#Check that the request worked (status code should be 200)\n",
    "res.status_code"
   ]
  },
  {
   "cell_type": "code",
   "execution_count": 4,
   "metadata": {},
   "outputs": [
    {
     "data": {
      "text/plain": [
       "'<!DOCTYPE html><html lang=\"en\"><head><title data-react-helmet=\"true\">Best New Music: Tracks, Albums &amp; Reissues | Pitchfork</title><meta data-react-helmet=\"true\" name=\"viewport\" content=\"width=device-width, initial-scale=1.0, user-scalable=no\"/><meta data-react-helmet=\"true\" name=\"og:type\" content=\"website\"/><meta data-react-helmet=\"true\" name=\"og:site_name\" content=\"Pitchfork\"/><meta data-react-helmet=\"true\" name=\"og:title\" content=\"Pitchfork\"/><meta data-react-helmet=\"true\" name=\"og:url\" content=\"https://pitchfork.com\"/><meta data-react-helmet=\"true\" name=\"description\" content=\"The most exciting and important music being released today\"/><meta data-react-helmet=\"true\" name=\"og:description\" content=\"The most exciting and important music being released today\"/><script async=\"\" src=\"/fonts-css/load-fonts.min.js\"></script><link data-react-helmet=\"true\" rel=\"shortcut icon\" type=\"image/png\" href=\"https://cdn.pitchfork.com/assets/misc/favicon-32.png\"/><link data-react-helmet=\"true\" rel=\"'"
      ]
     },
     "execution_count": 4,
     "metadata": {},
     "output_type": "execute_result"
    }
   ],
   "source": [
    "#Take a look at the text. Wow... this is a lot!\n",
    "res.text[:1000]"
   ]
  },
  {
   "cell_type": "code",
   "execution_count": 5,
   "metadata": {},
   "outputs": [],
   "source": [
    "#Convert the raw text into a BS object. This is much easier to sort through!\n",
    "best = BeautifulSoup(res.text, 'lxml')\n",
    "\n",
    "#All the albums or tracks have the following class tages\n",
    "class_tags = ['bnm-hero__review-block', 'bnm-small album-small', 'bnm-small track-small']\n",
    "\n",
    "#This is a list of all the entries, looping through this should gather all of the information\n",
    "reviews = best.find_all('div', {'class' : class_tags})"
   ]
  },
  {
   "cell_type": "code",
   "execution_count": 6,
   "metadata": {},
   "outputs": [
    {
     "data": {
      "text/plain": [
       "21"
      ]
     },
     "execution_count": 6,
     "metadata": {},
     "output_type": "execute_result"
    }
   ],
   "source": [
    "#Checking that the length of the lists matches the number of entires I counted on the site\n",
    "len(reviews)"
   ]
  },
  {
   "cell_type": "markdown",
   "metadata": {},
   "source": [
    "What to keep for each entry:\n",
    "- Artist\n",
    "- Title of work\n",
    "- Preview of review\n",
    "- Writer\n",
    "- Rating\n",
    "- Link to Pitchfork’s full review\n",
    "- Distinguish if it is an album or a song\n",
    "- Genre\n",
    "- Artwork"
   ]
  },
  {
   "cell_type": "code",
   "execution_count": 7,
   "metadata": {},
   "outputs": [
    {
     "data": {
      "text/plain": [
       "<div class=\"bnm-hero__review-block\"><a class=\"bnm-hero__link-block\" href=\"/reviews/tracks/nazar-bunker-ft-shannen-sp/\"><div class=\"artwork bnm-hero__artwork bnm-hero__artwork--with-notch\"><img alt=\"\" class=\"bnm-hero__img\" src=\"https://media.pitchfork.com/photos/5f08b15526e46edd30202daf/1:1/w_320/bunker.jpg\"/></div><div class=\"details\"><h3 class=\"bnm-hero__artist\"><ul class=\"artist-list\"><li>Nazar</li></ul></h3><h3 class=\"bnm-hero__title\">“Bunker” [ft. Shannen SP]</h3></div></a><ul class=\"authors\"><li><a class=\"linked display-name display-name--linked\" href=\"/staff/eric-torres/\"><span class=\"by\">by: </span>Eric Torres</a></li></ul><p class=\"bnm-hero__date\"><time class=\"pub-date\" datetime=\"2020-07-10T19:31:58\" title=\"Fri, 10 Jul 2020 19:31:58 GMT\">July 10 2020</time></p></div>"
      ]
     },
     "execution_count": 7,
     "metadata": {},
     "output_type": "execute_result"
    }
   ],
   "source": [
    "#Here's a preview of what just one looks like\n",
    "reviews[1]"
   ]
  },
  {
   "cell_type": "code",
   "execution_count": 8,
   "metadata": {},
   "outputs": [
    {
     "data": {
      "text/plain": [
       "'https://media.pitchfork.com/photos/5f284eb719fdf81aa4467942/1:1/w_320/Microphones%20In%202020_The%20Microphones.jpg'"
      ]
     },
     "execution_count": 8,
     "metadata": {},
     "output_type": "execute_result"
    }
   ],
   "source": [
    "reviews[0].find('img').attrs['src']"
   ]
  },
  {
   "cell_type": "markdown",
   "metadata": {},
   "source": [
    "All the information below can be found on the main page:"
   ]
  },
  {
   "cell_type": "markdown",
   "metadata": {},
   "source": [
    "Because of the formatting Pitchfork uses, the code below will only work for the first three entries. The rest use different tags:"
   ]
  },
  {
   "cell_type": "code",
   "execution_count": 9,
   "metadata": {},
   "outputs": [
    {
     "name": "stdout",
     "output_type": "stream",
     "text": [
      "The Microphones\n",
      "Microphones in 2020\n",
      "/reviews/albums/the-microphones-microphones-in-2020/\n",
      "Album\n",
      "['Experimental', 'Rock']\n",
      "https://media.pitchfork.com/photos/5f284eb719fdf81aa4467942/1:1/w_320/Microphones%20In%202020_The%20Microphones.jpg\n"
     ]
    }
   ],
   "source": [
    "#Artist\n",
    "print(reviews[0].find_all(['h3'])[0].text)\n",
    "\n",
    "#Title of Album or Track\n",
    "print(reviews[0].find_all(['h3'])[1].text)\n",
    "\n",
    "#Link to Pitchfork's review\n",
    "print(reviews[0].find('a').attrs['href'])\n",
    "\n",
    "#Album or track? This can be found in the URL\n",
    "print(reviews[0].find('a').attrs['href'].split('/')[2][:-1].title())\n",
    "\n",
    "#Genre\n",
    "print([genre.text for genre in reviews[0].find_all('li', {'class' : 'genre-list__item'})])\n",
    "\n",
    "#Artwork\n",
    "print(reviews[0].find('img').attrs['src'])"
   ]
  },
  {
   "cell_type": "code",
   "execution_count": 10,
   "metadata": {},
   "outputs": [
    {
     "data": {
      "text/plain": [
       "['Special Interest']"
      ]
     },
     "execution_count": 10,
     "metadata": {},
     "output_type": "execute_result"
    }
   ],
   "source": [
    "[i.text for i in reviews[5].find_all(['ul'], {'class' : 'artist-list'})]"
   ]
  },
  {
   "cell_type": "code",
   "execution_count": 11,
   "metadata": {},
   "outputs": [
    {
     "name": "stdout",
     "output_type": "stream",
     "text": [
      "Special Interest\n",
      "The Passion Of\n",
      "/reviews/albums/special-interest-the-passion-of/\n",
      "Album\n",
      "['Rock']\n",
      "https://media.pitchfork.com/photos/5efb778bdc55f46b46323ec7/1:1/w_160/The%20Passion%20Of_Special%20Interest.jpg\n"
     ]
    }
   ],
   "source": [
    "#Artist\n",
    "print(', '.join([i.text for i in reviews[5].find_all(['ul'], {'class' : 'artist-list'})]))\n",
    "\n",
    "#Title of Album or Track\n",
    "print(reviews[5].find(['h2']).text)\n",
    "\n",
    "#Link to Pitchfork's review\n",
    "print(reviews[5].find('a').attrs['href'])\n",
    "\n",
    "#Album or track? This can be found in the URL\n",
    "print(reviews[5].find('a').attrs['href'].split('/')[2][:-1].title())\n",
    "\n",
    "#Genre\n",
    "print([genre.text for genre in reviews[5].find_all('li', {'class' : 'genre-list__item'})])\n",
    "\n",
    "#Artwork\n",
    "print(reviews[5].find('img').attrs['src'])"
   ]
  },
  {
   "cell_type": "markdown",
   "metadata": {},
   "source": [
    "The other data points can be found on the individual review pages:"
   ]
  },
  {
   "cell_type": "code",
   "execution_count": 12,
   "metadata": {},
   "outputs": [],
   "source": [
    "rev_res = requests.get('https://pitchfork.com' + reviews[0].find('a').attrs['href'])"
   ]
  },
  {
   "cell_type": "code",
   "execution_count": 13,
   "metadata": {},
   "outputs": [
    {
     "data": {
      "text/plain": [
       "200"
      ]
     },
     "execution_count": 13,
     "metadata": {},
     "output_type": "execute_result"
    }
   ],
   "source": [
    "rev_res.status_code"
   ]
  },
  {
   "cell_type": "code",
   "execution_count": 14,
   "metadata": {},
   "outputs": [],
   "source": [
    "rev = BeautifulSoup(rev_res.text, 'lxml')"
   ]
  },
  {
   "cell_type": "code",
   "execution_count": 15,
   "metadata": {},
   "outputs": [
    {
     "name": "stdout",
     "output_type": "stream",
     "text": [
      "Phil Elverum resurrects his beloved Microphones alias for a 45-minute song about art-making, self-mythologizing, and the endless search for meaning. \n",
      "8.5\n",
      "Quinn Moreland\n"
     ]
    }
   ],
   "source": [
    "#Review Preview\n",
    "print(rev.find('div', {'class': 'review-detail__abstract'}).find('p').text)\n",
    "\n",
    "#Score\n",
    "print(rev.find('span', {'class': 'score'}).text)\n",
    "\n",
    "#Pitchfork Writer\n",
    "print(rev.find('a', {'class': 'authors-detail__display-name'}).text)"
   ]
  },
  {
   "cell_type": "code",
   "execution_count": 16,
   "metadata": {},
   "outputs": [
    {
     "data": {
      "text/plain": [
       "'Before he borrowed the name of the mountain that looms over his hometown of Anacortes, Washington, Phil Elverum wrote and performed songs as the Microphones, named in tribute to his recording equipment, which seemed to breathe and swell with a life of its own In the summer of 2019, 16 years after the project’s last proper release, Elverum exhumed this moniker for a show filled with old friends'"
      ]
     },
     "execution_count": 16,
     "metadata": {},
     "output_type": "execute_result"
    }
   ],
   "source": [
    "''.join(rev.find('div', {'class' : 'contents'}).find('p').text.split('.')[:2])"
   ]
  },
  {
   "cell_type": "markdown",
   "metadata": {},
   "source": [
    "Putting all the pieces together:"
   ]
  },
  {
   "cell_type": "code",
   "execution_count": 17,
   "metadata": {},
   "outputs": [],
   "source": [
    "def get_pitchfork(URL):\n",
    "    #Create a Request object by gathering information from the URL below\n",
    "    res = requests.get(URL + '/best/')\n",
    "    \n",
    "    #Check that the request worked (status code should be 200)\n",
    "    if res.status_code == 200:\n",
    "        #Convert the raw text into a BS object. This is much easier to sort through!\n",
    "        best = BeautifulSoup(res.text, 'lxml')\n",
    "\n",
    "        #All the albums or tracks have the following class tages\n",
    "        class_tags = ['bnm-hero__review-block', 'bnm-small album-small', 'bnm-small track-small']\n",
    "\n",
    "        #This is a list of all the entries, looping through this should gather all of the information\n",
    "        reviews = best.find_all('div', {'class' : class_tags})\n",
    "        \n",
    "        \n",
    "        #List to hold all of the dicationaries:\n",
    "        all_dict = []\n",
    "        \n",
    "        #For loop for each review. \n",
    "        for i, review in enumerate(reviews):\n",
    "            \n",
    "            #If it's one of the first 3, follow first strucutre, otherwise follow the second\n",
    "            if i <= 2:\n",
    "                entry = {\n",
    "                #Artist\n",
    "                'artist' : review.find_all(['h3'])[0].text,\n",
    "\n",
    "                #Title of Album or Track\n",
    "                'title' : review.find_all(['h3'])[1].text,\n",
    "\n",
    "                #Link to Pitchfork's review\n",
    "                'review_link' : URL + review.find('a').attrs['href'],\n",
    "\n",
    "                #Album or track? This can be found in the URL\n",
    "                'album_track' : review.find('a').attrs['href'].split('/')[2][:-1].title(),\n",
    "\n",
    "                #Genre\n",
    "                'genre' : [genre.text for genre in review.find_all('li', {'class' : 'genre-list__item'})],\n",
    "\n",
    "                #Artwork\n",
    "                'artwork' : review.find('img').attrs['src'],\n",
    "                }\n",
    "            else:\n",
    "                entry = {\n",
    "                #Artist\n",
    "                'artist' : ', '.join([i.text for i in review.find_all(['ul'], {'class' : 'artist-list'})]),\n",
    "\n",
    "                #Title of Album or Track\n",
    "                'title' : review.find(['h2']).text,\n",
    "\n",
    "                #Link to Pitchfork's review\n",
    "                'review_link' : review.find('a').attrs['href'],\n",
    "\n",
    "                #Album or track? This can be found in the URL\n",
    "                'album_track' : review.find('a').attrs['href'].split('/')[2][:-1].title(),\n",
    "\n",
    "                #Genre\n",
    "                'genre' : [genre.text for genre in review.find_all('li', {'class' : 'genre-list__item'})],\n",
    "\n",
    "                #Artwork\n",
    "                'artwork' : review.find('img').attrs['src'],\n",
    "                }\n",
    "            \n",
    "            rev_res = requests.get(URL + review.find('a').attrs['href'])\n",
    "            \n",
    "            if rev_res.status_code == 200:\n",
    "                rev = BeautifulSoup(rev_res.text, 'lxml')\n",
    "                \n",
    "                if entry['album_track'] == 'Album':\n",
    "                    #Review Preview\n",
    "                    entry['preview'] = rev.find('div', {'class': 'review-detail__abstract'}).find('p').text\n",
    "                    \n",
    "                    #Score\n",
    "                    entry['score'] = rev.find('span', {'class': 'score'}).text\n",
    "                else:\n",
    "                    #For track reviews, just include the first two sentences as preview\n",
    "                    entry['preview'] = ''.join(rev.find('div', {'class' : 'contents'}).find('p').text.split('.')[:2])\n",
    "                    \n",
    "                    #Score\n",
    "                    entry['score'] = 'N/A'\n",
    "                \n",
    "                \n",
    "\n",
    "                #Pitchfork Writer\n",
    "                entry['author'] = rev.find('a', {'class': 'authors-detail__display-name'}).text\n",
    "                    \n",
    "            all_dict.append(entry)\n",
    "            \n",
    "    return pd.DataFrame(all_dict)\n",
    "            "
   ]
  },
  {
   "cell_type": "code",
   "execution_count": 18,
   "metadata": {},
   "outputs": [
    {
     "name": "stdout",
     "output_type": "stream",
     "text": [
      "CPU times: user 1.26 s, sys: 71.8 ms, total: 1.33 s\n",
      "Wall time: 5.05 s\n"
     ]
    }
   ],
   "source": [
    "%%time\n",
    "new_music = get_pitchfork('https://pitchfork.com/')"
   ]
  },
  {
   "cell_type": "code",
   "execution_count": 19,
   "metadata": {
    "scrolled": true
   },
   "outputs": [
    {
     "data": {
      "text/html": [
       "<div>\n",
       "<style scoped>\n",
       "    .dataframe tbody tr th:only-of-type {\n",
       "        vertical-align: middle;\n",
       "    }\n",
       "\n",
       "    .dataframe tbody tr th {\n",
       "        vertical-align: top;\n",
       "    }\n",
       "\n",
       "    .dataframe thead th {\n",
       "        text-align: right;\n",
       "    }\n",
       "</style>\n",
       "<table border=\"1\" class=\"dataframe\">\n",
       "  <thead>\n",
       "    <tr style=\"text-align: right;\">\n",
       "      <th></th>\n",
       "      <th>artist</th>\n",
       "      <th>title</th>\n",
       "      <th>review_link</th>\n",
       "      <th>album_track</th>\n",
       "      <th>genre</th>\n",
       "      <th>artwork</th>\n",
       "      <th>preview</th>\n",
       "      <th>score</th>\n",
       "      <th>author</th>\n",
       "    </tr>\n",
       "  </thead>\n",
       "  <tbody>\n",
       "    <tr>\n",
       "      <th>0</th>\n",
       "      <td>The Microphones</td>\n",
       "      <td>Microphones in 2020</td>\n",
       "      <td>https://pitchfork.com//reviews/albums/the-micr...</td>\n",
       "      <td>Album</td>\n",
       "      <td>[Experimental, Rock]</td>\n",
       "      <td>https://media.pitchfork.com/photos/5f284eb719f...</td>\n",
       "      <td>Phil Elverum resurrects his beloved Microphone...</td>\n",
       "      <td>8.5</td>\n",
       "      <td>Quinn Moreland</td>\n",
       "    </tr>\n",
       "    <tr>\n",
       "      <th>1</th>\n",
       "      <td>Nazar</td>\n",
       "      <td>“Bunker” [ft. Shannen SP]</td>\n",
       "      <td>https://pitchfork.com//reviews/tracks/nazar-bu...</td>\n",
       "      <td>Track</td>\n",
       "      <td>[]</td>\n",
       "      <td>https://media.pitchfork.com/photos/5f08b15526e...</td>\n",
       "      <td>For the Manchester-based Angolan electronic ar...</td>\n",
       "      <td>N/A</td>\n",
       "      <td>Eric Torres</td>\n",
       "    </tr>\n",
       "    <tr>\n",
       "      <th>2</th>\n",
       "      <td>that dog.</td>\n",
       "      <td>Totally Crushed Out! / Retreat From the Sun</td>\n",
       "      <td>https://pitchfork.com//reviews/albums/that-dog...</td>\n",
       "      <td>Album</td>\n",
       "      <td>[Rock]</td>\n",
       "      <td>https://media.pitchfork.com/photos/5f1efd858fd...</td>\n",
       "      <td>Reissues of the L.A. band’s mid-’90s albums ca...</td>\n",
       "      <td>8.3</td>\n",
       "      <td>Jenn Pelly</td>\n",
       "    </tr>\n",
       "    <tr>\n",
       "      <th>3</th>\n",
       "      <td>Dehd</td>\n",
       "      <td>Flower of Devotion</td>\n",
       "      <td>/reviews/albums/dehd-flower-of-devotion/</td>\n",
       "      <td>Album</td>\n",
       "      <td>[Rock]</td>\n",
       "      <td>https://media.pitchfork.com/photos/5f0e1f47763...</td>\n",
       "      <td>Recording in a studio, the Chicago DIY trio so...</td>\n",
       "      <td>8.3</td>\n",
       "      <td>Steven Arroyo</td>\n",
       "    </tr>\n",
       "    <tr>\n",
       "      <th>4</th>\n",
       "      <td>Julianna Barwick</td>\n",
       "      <td>Healing Is a Miracle</td>\n",
       "      <td>/reviews/albums/julianna-barwick-healing-is-a-...</td>\n",
       "      <td>Album</td>\n",
       "      <td>[Electronic]</td>\n",
       "      <td>https://media.pitchfork.com/photos/5f073c85ca5...</td>\n",
       "      <td>The vocalist and producer Juliana Barwick’s re...</td>\n",
       "      <td>8.3</td>\n",
       "      <td>Will Gottsegen</td>\n",
       "    </tr>\n",
       "    <tr>\n",
       "      <th>5</th>\n",
       "      <td>Special Interest</td>\n",
       "      <td>The Passion Of</td>\n",
       "      <td>/reviews/albums/special-interest-the-passion-of/</td>\n",
       "      <td>Album</td>\n",
       "      <td>[Rock]</td>\n",
       "      <td>https://media.pitchfork.com/photos/5efb778bdc5...</td>\n",
       "      <td>Mixing art-punk, industrial, and techno, the o...</td>\n",
       "      <td>8.4</td>\n",
       "      <td>Jenn Pelly</td>\n",
       "    </tr>\n",
       "    <tr>\n",
       "      <th>6</th>\n",
       "      <td>Jessie Ware</td>\n",
       "      <td>What’s Your Pleasure?</td>\n",
       "      <td>/reviews/albums/jessie-ware-whats-your-pleasure/</td>\n",
       "      <td>Album</td>\n",
       "      <td>[Pop/R&amp;B]</td>\n",
       "      <td>https://media.pitchfork.com/photos/5ef619d0881...</td>\n",
       "      <td>On her disco-inspired new album, Ware sounds b...</td>\n",
       "      <td>8.3</td>\n",
       "      <td>Owen Myers</td>\n",
       "    </tr>\n",
       "    <tr>\n",
       "      <th>7</th>\n",
       "      <td>Haim</td>\n",
       "      <td>Women in Music Pt. III</td>\n",
       "      <td>/reviews/albums/haim-women-in-music-pt-iii/</td>\n",
       "      <td>Album</td>\n",
       "      <td>[Rock]</td>\n",
       "      <td>https://media.pitchfork.com/photos/5ef25198881...</td>\n",
       "      <td>The third album from the trio is far and away ...</td>\n",
       "      <td>8.6</td>\n",
       "      <td>Aimee Cliff</td>\n",
       "    </tr>\n",
       "    <tr>\n",
       "      <th>8</th>\n",
       "      <td>Phoebe Bridgers</td>\n",
       "      <td>Punisher</td>\n",
       "      <td>/reviews/albums/phoebe-bridgers-punisher/</td>\n",
       "      <td>Album</td>\n",
       "      <td>[Folk/Country]</td>\n",
       "      <td>https://media.pitchfork.com/photos/5ee923f47bb...</td>\n",
       "      <td>On her marvelous second album, Phoebe Bridgers...</td>\n",
       "      <td>8.7</td>\n",
       "      <td>Sam Sodomsky</td>\n",
       "    </tr>\n",
       "    <tr>\n",
       "      <th>9</th>\n",
       "      <td>Moor Motherbilly woods</td>\n",
       "      <td>“Furies”</td>\n",
       "      <td>/reviews/tracks/moor-mother-billy-woods-furies/</td>\n",
       "      <td>Track</td>\n",
       "      <td>[Experimental, Rap]</td>\n",
       "      <td>https://media.pitchfork.com/photos/5f077ec385f...</td>\n",
       "      <td>On “Furies,” Moor Mother and billy woods work ...</td>\n",
       "      <td>N/A</td>\n",
       "      <td>Sheldon Pearce</td>\n",
       "    </tr>\n",
       "    <tr>\n",
       "      <th>10</th>\n",
       "      <td>Sufjan Stevens</td>\n",
       "      <td>“America”</td>\n",
       "      <td>/reviews/tracks/sufjan-stevens-america/</td>\n",
       "      <td>Track</td>\n",
       "      <td>[Folk/Country]</td>\n",
       "      <td>https://media.pitchfork.com/photos/5eff4e90881...</td>\n",
       "      <td>“Christ would be ashamed of us all,” Sufjan St...</td>\n",
       "      <td>N/A</td>\n",
       "      <td>Sam Sodomsky</td>\n",
       "    </tr>\n",
       "    <tr>\n",
       "      <th>11</th>\n",
       "      <td>Megan Thee Stallion</td>\n",
       "      <td>“Girls in the Hood”</td>\n",
       "      <td>/reviews/tracks/megan-thee-stallion-girls-in-t...</td>\n",
       "      <td>Track</td>\n",
       "      <td>[Rap]</td>\n",
       "      <td>https://media.pitchfork.com/photos/5ef64ec7464...</td>\n",
       "      <td>So much of Megan Thee Stallion’s music is abou...</td>\n",
       "      <td>N/A</td>\n",
       "      <td>Sheldon Pearce</td>\n",
       "    </tr>\n",
       "    <tr>\n",
       "      <th>12</th>\n",
       "      <td>Kareem Ali</td>\n",
       "      <td>“Night Echoes”</td>\n",
       "      <td>/reviews/tracks/kareem-ali-night-echoes/</td>\n",
       "      <td>Track</td>\n",
       "      <td>[]</td>\n",
       "      <td>https://media.pitchfork.com/photos/5ef22748464...</td>\n",
       "      <td>Phoenix, Arizona isn’t known for being a hotbe...</td>\n",
       "      <td>N/A</td>\n",
       "      <td>Philip Sherburne</td>\n",
       "    </tr>\n",
       "    <tr>\n",
       "      <th>13</th>\n",
       "      <td>Special Interest</td>\n",
       "      <td>“Street Pulse Beat”</td>\n",
       "      <td>/reviews/tracks/special-interest-street-pulse-...</td>\n",
       "      <td>Track</td>\n",
       "      <td>[Rock]</td>\n",
       "      <td>https://media.pitchfork.com/photos/5ef0c67c7bb...</td>\n",
       "      <td>Special Interest are a New Orleans punk band w...</td>\n",
       "      <td>N/A</td>\n",
       "      <td>Jeremy D. Larson</td>\n",
       "    </tr>\n",
       "    <tr>\n",
       "      <th>14</th>\n",
       "      <td>Drakeo the Ruler</td>\n",
       "      <td>“Backflip or Sumn”</td>\n",
       "      <td>/reviews/tracks/drakeo-the-ruler-backflip-or-s...</td>\n",
       "      <td>Track</td>\n",
       "      <td>[Rap]</td>\n",
       "      <td>https://media.pitchfork.com/photos/5edfbe1010c...</td>\n",
       "      <td>Drakeo the Ruler is fighting for his freedom a...</td>\n",
       "      <td>N/A</td>\n",
       "      <td>Sheldon Pearce</td>\n",
       "    </tr>\n",
       "    <tr>\n",
       "      <th>15</th>\n",
       "      <td>Oneness of Juju</td>\n",
       "      <td>African Rhythms 1970-1982</td>\n",
       "      <td>/reviews/albums/oneness-of-juju-african-rhythm...</td>\n",
       "      <td>Album</td>\n",
       "      <td>[Jazz]</td>\n",
       "      <td>https://media.pitchfork.com/photos/5f0df82a100...</td>\n",
       "      <td>A landmark anthology originally released in 20...</td>\n",
       "      <td>8.4</td>\n",
       "      <td>Piotr Orlov</td>\n",
       "    </tr>\n",
       "    <tr>\n",
       "      <th>16</th>\n",
       "      <td>Albert Ayler</td>\n",
       "      <td>New Grass</td>\n",
       "      <td>/reviews/albums/albert-ayler-new-grass/</td>\n",
       "      <td>Album</td>\n",
       "      <td>[Jazz]</td>\n",
       "      <td>https://media.pitchfork.com/photos/5efa1711f3c...</td>\n",
       "      <td>The tenor saxophonist’s beguiling and divisive...</td>\n",
       "      <td>8.7</td>\n",
       "      <td>Fred Thomas</td>\n",
       "    </tr>\n",
       "    <tr>\n",
       "      <th>17</th>\n",
       "      <td>Hiroshi Yoshimura</td>\n",
       "      <td>GREEN</td>\n",
       "      <td>/reviews/albums/hiroshi-yoshimura-green/</td>\n",
       "      <td>Album</td>\n",
       "      <td>[Electronic]</td>\n",
       "      <td>https://media.pitchfork.com/photos/5ef27832a9d...</td>\n",
       "      <td>The Japanese ambient pioneer’s well-deserved r...</td>\n",
       "      <td>8.8</td>\n",
       "      <td>Philip Sherburne</td>\n",
       "    </tr>\n",
       "    <tr>\n",
       "      <th>18</th>\n",
       "      <td>Neil Young</td>\n",
       "      <td>Homegrown</td>\n",
       "      <td>/reviews/albums/neil-young-homegrown/</td>\n",
       "      <td>Album</td>\n",
       "      <td>[Rock]</td>\n",
       "      <td>https://media.pitchfork.com/photos/5ee905a27bb...</td>\n",
       "      <td>After 46 years, Neil Young unearths a lost but...</td>\n",
       "      <td>8.8</td>\n",
       "      <td>Emilie Friedlander</td>\n",
       "    </tr>\n",
       "    <tr>\n",
       "      <th>19</th>\n",
       "      <td>Bessie Jones and the Georgia Sea Island Singers</td>\n",
       "      <td>Get in Union</td>\n",
       "      <td>/reviews/albums/bessie-jones-and-the-georgia-s...</td>\n",
       "      <td>Album</td>\n",
       "      <td>[Folk/Country]</td>\n",
       "      <td>https://media.pitchfork.com/photos/5ee90029464...</td>\n",
       "      <td>The reissued compilation from the great Americ...</td>\n",
       "      <td>8.3</td>\n",
       "      <td>Allison Hussey</td>\n",
       "    </tr>\n",
       "    <tr>\n",
       "      <th>20</th>\n",
       "      <td>Pharoah Sanders</td>\n",
       "      <td>Live in Paris (1975)</td>\n",
       "      <td>/reviews/albums/pharoah-sanders-live-in-paris-...</td>\n",
       "      <td>Album</td>\n",
       "      <td>[Jazz]</td>\n",
       "      <td>https://media.pitchfork.com/photos/5e909b2385f...</td>\n",
       "      <td>Pharoah Sanders’ group rolled up all the best ...</td>\n",
       "      <td>9.0</td>\n",
       "      <td>Mark Richardson</td>\n",
       "    </tr>\n",
       "  </tbody>\n",
       "</table>\n",
       "</div>"
      ],
      "text/plain": [
       "                                             artist  \\\n",
       "0                                   The Microphones   \n",
       "1                                             Nazar   \n",
       "2                                         that dog.   \n",
       "3                                              Dehd   \n",
       "4                                  Julianna Barwick   \n",
       "5                                  Special Interest   \n",
       "6                                       Jessie Ware   \n",
       "7                                              Haim   \n",
       "8                                   Phoebe Bridgers   \n",
       "9                            Moor Motherbilly woods   \n",
       "10                                   Sufjan Stevens   \n",
       "11                              Megan Thee Stallion   \n",
       "12                                       Kareem Ali   \n",
       "13                                 Special Interest   \n",
       "14                                 Drakeo the Ruler   \n",
       "15                                  Oneness of Juju   \n",
       "16                                     Albert Ayler   \n",
       "17                                Hiroshi Yoshimura   \n",
       "18                                       Neil Young   \n",
       "19  Bessie Jones and the Georgia Sea Island Singers   \n",
       "20                                  Pharoah Sanders   \n",
       "\n",
       "                                          title  \\\n",
       "0                           Microphones in 2020   \n",
       "1                     “Bunker” [ft. Shannen SP]   \n",
       "2   Totally Crushed Out! / Retreat From the Sun   \n",
       "3                            Flower of Devotion   \n",
       "4                          Healing Is a Miracle   \n",
       "5                                The Passion Of   \n",
       "6                         What’s Your Pleasure?   \n",
       "7                        Women in Music Pt. III   \n",
       "8                                      Punisher   \n",
       "9                                      “Furies”   \n",
       "10                                    “America”   \n",
       "11                          “Girls in the Hood”   \n",
       "12                               “Night Echoes”   \n",
       "13                          “Street Pulse Beat”   \n",
       "14                           “Backflip or Sumn”   \n",
       "15                    African Rhythms 1970-1982   \n",
       "16                                    New Grass   \n",
       "17                                        GREEN   \n",
       "18                                    Homegrown   \n",
       "19                                 Get in Union   \n",
       "20                         Live in Paris (1975)   \n",
       "\n",
       "                                          review_link album_track  \\\n",
       "0   https://pitchfork.com//reviews/albums/the-micr...       Album   \n",
       "1   https://pitchfork.com//reviews/tracks/nazar-bu...       Track   \n",
       "2   https://pitchfork.com//reviews/albums/that-dog...       Album   \n",
       "3            /reviews/albums/dehd-flower-of-devotion/       Album   \n",
       "4   /reviews/albums/julianna-barwick-healing-is-a-...       Album   \n",
       "5    /reviews/albums/special-interest-the-passion-of/       Album   \n",
       "6    /reviews/albums/jessie-ware-whats-your-pleasure/       Album   \n",
       "7         /reviews/albums/haim-women-in-music-pt-iii/       Album   \n",
       "8           /reviews/albums/phoebe-bridgers-punisher/       Album   \n",
       "9     /reviews/tracks/moor-mother-billy-woods-furies/       Track   \n",
       "10            /reviews/tracks/sufjan-stevens-america/       Track   \n",
       "11  /reviews/tracks/megan-thee-stallion-girls-in-t...       Track   \n",
       "12           /reviews/tracks/kareem-ali-night-echoes/       Track   \n",
       "13  /reviews/tracks/special-interest-street-pulse-...       Track   \n",
       "14  /reviews/tracks/drakeo-the-ruler-backflip-or-s...       Track   \n",
       "15  /reviews/albums/oneness-of-juju-african-rhythm...       Album   \n",
       "16            /reviews/albums/albert-ayler-new-grass/       Album   \n",
       "17           /reviews/albums/hiroshi-yoshimura-green/       Album   \n",
       "18              /reviews/albums/neil-young-homegrown/       Album   \n",
       "19  /reviews/albums/bessie-jones-and-the-georgia-s...       Album   \n",
       "20  /reviews/albums/pharoah-sanders-live-in-paris-...       Album   \n",
       "\n",
       "                   genre                                            artwork  \\\n",
       "0   [Experimental, Rock]  https://media.pitchfork.com/photos/5f284eb719f...   \n",
       "1                     []  https://media.pitchfork.com/photos/5f08b15526e...   \n",
       "2                 [Rock]  https://media.pitchfork.com/photos/5f1efd858fd...   \n",
       "3                 [Rock]  https://media.pitchfork.com/photos/5f0e1f47763...   \n",
       "4           [Electronic]  https://media.pitchfork.com/photos/5f073c85ca5...   \n",
       "5                 [Rock]  https://media.pitchfork.com/photos/5efb778bdc5...   \n",
       "6              [Pop/R&B]  https://media.pitchfork.com/photos/5ef619d0881...   \n",
       "7                 [Rock]  https://media.pitchfork.com/photos/5ef25198881...   \n",
       "8         [Folk/Country]  https://media.pitchfork.com/photos/5ee923f47bb...   \n",
       "9    [Experimental, Rap]  https://media.pitchfork.com/photos/5f077ec385f...   \n",
       "10        [Folk/Country]  https://media.pitchfork.com/photos/5eff4e90881...   \n",
       "11                 [Rap]  https://media.pitchfork.com/photos/5ef64ec7464...   \n",
       "12                    []  https://media.pitchfork.com/photos/5ef22748464...   \n",
       "13                [Rock]  https://media.pitchfork.com/photos/5ef0c67c7bb...   \n",
       "14                 [Rap]  https://media.pitchfork.com/photos/5edfbe1010c...   \n",
       "15                [Jazz]  https://media.pitchfork.com/photos/5f0df82a100...   \n",
       "16                [Jazz]  https://media.pitchfork.com/photos/5efa1711f3c...   \n",
       "17          [Electronic]  https://media.pitchfork.com/photos/5ef27832a9d...   \n",
       "18                [Rock]  https://media.pitchfork.com/photos/5ee905a27bb...   \n",
       "19        [Folk/Country]  https://media.pitchfork.com/photos/5ee90029464...   \n",
       "20                [Jazz]  https://media.pitchfork.com/photos/5e909b2385f...   \n",
       "\n",
       "                                              preview score  \\\n",
       "0   Phil Elverum resurrects his beloved Microphone...   8.5   \n",
       "1   For the Manchester-based Angolan electronic ar...   N/A   \n",
       "2   Reissues of the L.A. band’s mid-’90s albums ca...   8.3   \n",
       "3   Recording in a studio, the Chicago DIY trio so...   8.3   \n",
       "4   The vocalist and producer Juliana Barwick’s re...   8.3   \n",
       "5   Mixing art-punk, industrial, and techno, the o...   8.4   \n",
       "6   On her disco-inspired new album, Ware sounds b...   8.3   \n",
       "7   The third album from the trio is far and away ...   8.6   \n",
       "8   On her marvelous second album, Phoebe Bridgers...   8.7   \n",
       "9   On “Furies,” Moor Mother and billy woods work ...   N/A   \n",
       "10  “Christ would be ashamed of us all,” Sufjan St...   N/A   \n",
       "11  So much of Megan Thee Stallion’s music is abou...   N/A   \n",
       "12  Phoenix, Arizona isn’t known for being a hotbe...   N/A   \n",
       "13  Special Interest are a New Orleans punk band w...   N/A   \n",
       "14  Drakeo the Ruler is fighting for his freedom a...   N/A   \n",
       "15  A landmark anthology originally released in 20...   8.4   \n",
       "16  The tenor saxophonist’s beguiling and divisive...   8.7   \n",
       "17  The Japanese ambient pioneer’s well-deserved r...   8.8   \n",
       "18  After 46 years, Neil Young unearths a lost but...   8.8   \n",
       "19  The reissued compilation from the great Americ...   8.3   \n",
       "20  Pharoah Sanders’ group rolled up all the best ...   9.0   \n",
       "\n",
       "                author  \n",
       "0       Quinn Moreland  \n",
       "1          Eric Torres  \n",
       "2           Jenn Pelly  \n",
       "3        Steven Arroyo  \n",
       "4       Will Gottsegen  \n",
       "5           Jenn Pelly  \n",
       "6          Owen Myers   \n",
       "7          Aimee Cliff  \n",
       "8         Sam Sodomsky  \n",
       "9       Sheldon Pearce  \n",
       "10        Sam Sodomsky  \n",
       "11      Sheldon Pearce  \n",
       "12    Philip Sherburne  \n",
       "13    Jeremy D. Larson  \n",
       "14      Sheldon Pearce  \n",
       "15         Piotr Orlov  \n",
       "16         Fred Thomas  \n",
       "17    Philip Sherburne  \n",
       "18  Emilie Friedlander  \n",
       "19      Allison Hussey  \n",
       "20     Mark Richardson  "
      ]
     },
     "execution_count": 19,
     "metadata": {},
     "output_type": "execute_result"
    }
   ],
   "source": [
    "new_music"
   ]
  },
  {
   "cell_type": "code",
   "execution_count": 20,
   "metadata": {},
   "outputs": [],
   "source": [
    "new_music.to_csv('./new_music.csv')"
   ]
  }
 ],
 "metadata": {
  "kernelspec": {
   "display_name": "Python 3",
   "language": "python",
   "name": "python3"
  },
  "language_info": {
   "codemirror_mode": {
    "name": "ipython",
    "version": 3
   },
   "file_extension": ".py",
   "mimetype": "text/x-python",
   "name": "python",
   "nbconvert_exporter": "python",
   "pygments_lexer": "ipython3",
   "version": "3.7.6"
  }
 },
 "nbformat": 4,
 "nbformat_minor": 4
}
